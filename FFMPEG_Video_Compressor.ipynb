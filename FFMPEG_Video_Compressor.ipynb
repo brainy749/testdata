{
  "nbformat": 4,
  "nbformat_minor": 0,
  "metadata": {
    "colab": {
      "name": "FFMPEG Video Compressor.ipynb",
      "provenance": [],
      "include_colab_link": true
    },
    "kernelspec": {
      "name": "python3",
      "display_name": "Python 3"
    },
    "language_info": {
      "name": "python"
    }
  },
  "cells": [
    {
      "cell_type": "markdown",
      "metadata": {
        "id": "view-in-github",
        "colab_type": "text"
      },
      "source": [
        "<a href=\"https://colab.research.google.com/github/brainy749/testdata/blob/master/FFMPEG_Video_Compressor.ipynb\" target=\"_parent\"><img src=\"https://colab.research.google.com/assets/colab-badge.svg\" alt=\"Open In Colab\"/></a>"
      ]
    },
    {
      "cell_type": "markdown",
      "metadata": {
        "id": "g_8R3r-1_QGu"
      },
      "source": [
        "<a href=\"https://github.com/jakiyaa/ffmpeg-video-compress\">\n",
        "<img src=\"https://github.com/fluidicon.png\" height=100px, align=\"left\"></a>\n",
        "\n",
        "\n",
        "\n",
        "<center><h1><b> FFMPEG Video Compressor </h1></b></center>"
      ]
    },
    {
      "cell_type": "code",
      "metadata": {
        "cellView": "form",
        "id": "Ox2xTAoa4aag"
      },
      "source": [
        "\n",
        "#@title ← Run <Center>Mount Google Drive </Center>\n",
        "#@markdown <Center> <img src=\"https://kstatic.googleusercontent.com/files/e20dbc1db7b6eab22fb2d07df8043f8a74b301dbb8c176e6a1992b2dc229c5ae94b5c260cf549c41712fa40b7e639166c6a8461303a27c2a3b9c55b8ca155ec3\" class=\"icon\" alt=\"Icon\">\n",
        "\n",
        "from google.colab import drive\n",
        "drive.mount('/content/drive')"
      ],
      "execution_count": null,
      "outputs": []
    },
    {
      "cell_type": "code",
      "metadata": {
        "id": "8tpVB9hfccLm"
      },
      "source": [
        "#@title ← Run <center> </font> <font color='red'> FFMPEG Compress <img src='https://dashboard.snapcraft.io/site_media/appmedia/2018/07/ffmpeg_LvkKa6R.png' height=\"40\" /> </center> { display-mode: \"form\" }\n",
        "import os\n",
        "input_Video = \"/path/to/video/inputvideo.mp4\" #@param {type:\"string\"}\n",
        "Download_location = \"/content/drive/MyDrive/mycompressedvideo.mp4\" #@param {type:\"string\"}\n",
        "\n",
        "crf = 28 #@param {type:\"slider\", min:17, max:28, step:1}\n",
        "#@markdown <font color='greenr'> Recommended crf = \"28\" </font>\n",
        "\n",
        "#@markdown CRF - [Lower(17) = Higher Quality/Larger File Size]\n",
        "\n",
        "#@markdown CRF - [Higher(28) = Normal Quality/small File Size]\n",
        "\n",
        "\n",
        "!ffmpeg -i \"$input_Video\" -vcodec libx265 -crf \"$crf\" \"$Download_location\""
      ],
      "execution_count": null,
      "outputs": []
    },
    {
      "cell_type": "code",
      "source": [
        "from google.colab import drive\n",
        "drive.mount('/content/drive')"
      ],
      "metadata": {
        "id": "gJkiOTnhCFmw"
      },
      "execution_count": null,
      "outputs": []
    }
  ]
}